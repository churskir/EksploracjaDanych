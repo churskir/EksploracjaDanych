{
 "cells": [
  {
   "cell_type": "code",
   "execution_count": 209,
   "metadata": {
    "collapsed": true
   },
   "outputs": [],
   "source": [
    "import sys\n",
    "import numpy as nmp\n",
    "import pandas as pnd\n",
    "data = pnd.read_table('dane2.dat', sep=' ')\n",
    "classes = set(data.klasa)"
   ]
  },
  {
   "cell_type": "markdown",
   "metadata": {},
   "source": [
    "## Zadanie 3\n",
    "Oceń czy w zbiorze danych występują punkty oddalone. Jeśli tak to zdecyduj co z nimi zrobić. Sprawdź czy atrybuty wymagają normalizacji lub standaryzacji. Jeśli tak, to wykonaj ją.\n",
    "### Punkty oddalone - wykrywanie metodą analityczną"
   ]
  },
  {
   "cell_type": "code",
   "execution_count": 220,
   "metadata": {},
   "outputs": [
    {
     "data": {
      "text/html": [
       "<div>\n",
       "<style scoped>\n",
       "    .dataframe tbody tr th:only-of-type {\n",
       "        vertical-align: middle;\n",
       "    }\n",
       "\n",
       "    .dataframe tbody tr th {\n",
       "        vertical-align: top;\n",
       "    }\n",
       "\n",
       "    .dataframe thead th {\n",
       "        text-align: right;\n",
       "    }\n",
       "</style>\n",
       "<table border=\"1\" class=\"dataframe\">\n",
       "  <thead>\n",
       "    <tr style=\"text-align: right;\">\n",
       "      <th></th>\n",
       "      <th>atrybut1</th>\n",
       "    </tr>\n",
       "  </thead>\n",
       "  <tbody>\n",
       "    <tr>\n",
       "      <th>339</th>\n",
       "      <td>35.842146</td>\n",
       "    </tr>\n",
       "    <tr>\n",
       "      <th>377</th>\n",
       "      <td>35.668187</td>\n",
       "    </tr>\n",
       "  </tbody>\n",
       "</table>\n",
       "</div>"
      ],
      "text/plain": [
       "      atrybut1\n",
       "339  35.842146\n",
       "377  35.668187"
      ]
     },
     "execution_count": 220,
     "metadata": {},
     "output_type": "execute_result"
    }
   ],
   "source": [
    "atr = data.atrybut1\n",
    "q1 = atr.quantile(0.25)\n",
    "q3 = atr.quantile(0.75)\n",
    "down = q1 - 1.5 * (q3 - q1)\n",
    "up = q3 + 1.5 * (q3 - q1)\n",
    "\n",
    "data_fixed = data[data.atrybut1 > down][data.atrybut1 < up]\n",
    "\n",
    "far = (data[atr > up].append(data[atr < down]))\n",
    "pnd.DataFrame(far.atrybut1)"
   ]
  },
  {
   "cell_type": "code",
   "execution_count": 221,
   "metadata": {},
   "outputs": [
    {
     "data": {
      "text/html": [
       "<div>\n",
       "<style scoped>\n",
       "    .dataframe tbody tr th:only-of-type {\n",
       "        vertical-align: middle;\n",
       "    }\n",
       "\n",
       "    .dataframe tbody tr th {\n",
       "        vertical-align: top;\n",
       "    }\n",
       "\n",
       "    .dataframe thead th {\n",
       "        text-align: right;\n",
       "    }\n",
       "</style>\n",
       "<table border=\"1\" class=\"dataframe\">\n",
       "  <thead>\n",
       "    <tr style=\"text-align: right;\">\n",
       "      <th></th>\n",
       "      <th>atrybut2</th>\n",
       "    </tr>\n",
       "  </thead>\n",
       "  <tbody>\n",
       "    <tr>\n",
       "      <th>21</th>\n",
       "      <td>10.077687</td>\n",
       "    </tr>\n",
       "    <tr>\n",
       "      <th>292</th>\n",
       "      <td>11.335322</td>\n",
       "    </tr>\n",
       "    <tr>\n",
       "      <th>321</th>\n",
       "      <td>10.079279</td>\n",
       "    </tr>\n",
       "    <tr>\n",
       "      <th>636</th>\n",
       "      <td>10.294435</td>\n",
       "    </tr>\n",
       "    <tr>\n",
       "      <th>738</th>\n",
       "      <td>10.513794</td>\n",
       "    </tr>\n",
       "    <tr>\n",
       "      <th>832</th>\n",
       "      <td>10.351723</td>\n",
       "    </tr>\n",
       "    <tr>\n",
       "      <th>880</th>\n",
       "      <td>9.875525</td>\n",
       "    </tr>\n",
       "    <tr>\n",
       "      <th>904</th>\n",
       "      <td>9.882224</td>\n",
       "    </tr>\n",
       "    <tr>\n",
       "      <th>999</th>\n",
       "      <td>10.250798</td>\n",
       "    </tr>\n",
       "    <tr>\n",
       "      <th>1066</th>\n",
       "      <td>12.434930</td>\n",
       "    </tr>\n",
       "  </tbody>\n",
       "</table>\n",
       "</div>"
      ],
      "text/plain": [
       "       atrybut2\n",
       "21    10.077687\n",
       "292   11.335322\n",
       "321   10.079279\n",
       "636   10.294435\n",
       "738   10.513794\n",
       "832   10.351723\n",
       "880    9.875525\n",
       "904    9.882224\n",
       "999   10.250798\n",
       "1066  12.434930"
      ]
     },
     "execution_count": 221,
     "metadata": {},
     "output_type": "execute_result"
    }
   ],
   "source": [
    "atr = data.atrybut2\n",
    "q1 = atr.quantile(0.25)\n",
    "q3 = atr.quantile(0.75)\n",
    "down = q1 - 1.5 * (q3 - q1)\n",
    "up = q3 + 1.5 * (q3 - q1)\n",
    "\n",
    "data_fixed = data_fixed[data_fixed.atrybut2 > down][data_fixed.atrybut2 < up]\n",
    "\n",
    "far = (data[atr > up].append(data[atr < down]))\n",
    "pnd.DataFrame(far.atrybut2)"
   ]
  },
  {
   "cell_type": "code",
   "execution_count": 222,
   "metadata": {},
   "outputs": [
    {
     "name": "stderr",
     "output_type": "stream",
     "text": [
      "D:\\Users\\Radek\\Anaconda3\\lib\\site-packages\\ipykernel_launcher.py:7: UserWarning: Boolean Series key will be reindexed to match DataFrame index.\n",
      "  import sys\n"
     ]
    },
    {
     "data": {
      "text/html": [
       "<div>\n",
       "<style scoped>\n",
       "    .dataframe tbody tr th:only-of-type {\n",
       "        vertical-align: middle;\n",
       "    }\n",
       "\n",
       "    .dataframe tbody tr th {\n",
       "        vertical-align: top;\n",
       "    }\n",
       "\n",
       "    .dataframe thead th {\n",
       "        text-align: right;\n",
       "    }\n",
       "</style>\n",
       "<table border=\"1\" class=\"dataframe\">\n",
       "  <thead>\n",
       "    <tr style=\"text-align: right;\">\n",
       "      <th></th>\n",
       "      <th>atrybut3</th>\n",
       "    </tr>\n",
       "  </thead>\n",
       "  <tbody>\n",
       "    <tr>\n",
       "      <th>28</th>\n",
       "      <td>96.653316</td>\n",
       "    </tr>\n",
       "    <tr>\n",
       "      <th>193</th>\n",
       "      <td>100.011788</td>\n",
       "    </tr>\n",
       "    <tr>\n",
       "      <th>574</th>\n",
       "      <td>100.890134</td>\n",
       "    </tr>\n",
       "    <tr>\n",
       "      <th>900</th>\n",
       "      <td>89.671517</td>\n",
       "    </tr>\n",
       "    <tr>\n",
       "      <th>1074</th>\n",
       "      <td>90.707846</td>\n",
       "    </tr>\n",
       "  </tbody>\n",
       "</table>\n",
       "</div>"
      ],
      "text/plain": [
       "        atrybut3\n",
       "28     96.653316\n",
       "193   100.011788\n",
       "574   100.890134\n",
       "900    89.671517\n",
       "1074   90.707846"
      ]
     },
     "execution_count": 222,
     "metadata": {},
     "output_type": "execute_result"
    }
   ],
   "source": [
    "atr = data.atrybut3\n",
    "q1 = atr.quantile(0.25)\n",
    "q3 = atr.quantile(0.75)\n",
    "down = q1 - 1.5 * (q3 - q1)\n",
    "up = q3 + 1.5 * (q3 - q1)\n",
    "\n",
    "data_fixed = data_fixed[data.atrybut3 > down][data_fixed.atrybut3 < up]\n",
    "\n",
    "far = (data[atr > up].append(data[atr < down]))\n",
    "pnd.DataFrame(far.atrybut3)"
   ]
  },
  {
   "cell_type": "code",
   "execution_count": 223,
   "metadata": {
    "collapsed": true
   },
   "outputs": [],
   "source": [
    "data_fixed = data_fixed.reset_index(drop = True)"
   ]
  },
  {
   "cell_type": "markdown",
   "metadata": {},
   "source": [
    "Punkty te zostały usunięte. Operacja ta wymagała ponownego indeksowania danych.\n",
    "### Standaryzacja\n",
    "Dane dla poszczególnych atrybutów są bardzo rozproszone. W związku z tym zostaną poddane standaryzacji."
   ]
  },
  {
   "cell_type": "code",
   "execution_count": 225,
   "metadata": {},
   "outputs": [],
   "source": [
    "std_data = data_fixed\n",
    "\n",
    "std_data.atrybut1 -= data.atrybut1.mean()\n",
    "std_data.atrybut2 -= data.atrybut2.mean()\n",
    "std_data.atrybut3 -= data.atrybut3.mean()\n",
    "\n",
    "std_data.atrybut1 /= data.atrybut1.std()\n",
    "std_data.atrybut2 /= data.atrybut2.std()\n",
    "std_data.atrybut3 /= data.atrybut3.std()"
   ]
  },
  {
   "cell_type": "code",
   "execution_count": null,
   "metadata": {
    "collapsed": true
   },
   "outputs": [],
   "source": []
  }
 ],
 "metadata": {
  "kernelspec": {
   "display_name": "Python 3",
   "language": "python",
   "name": "python3"
  },
  "language_info": {
   "codemirror_mode": {
    "name": "ipython",
    "version": 3
   },
   "file_extension": ".py",
   "mimetype": "text/x-python",
   "name": "python",
   "nbconvert_exporter": "python",
   "pygments_lexer": "ipython3",
   "version": "3.6.3"
  }
 },
 "nbformat": 4,
 "nbformat_minor": 2
}
