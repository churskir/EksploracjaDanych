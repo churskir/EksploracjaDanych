{
 "cells": [
  {
   "cell_type": "code",
   "execution_count": 1,
   "metadata": {
    "collapsed": true
   },
   "outputs": [],
   "source": [
    "import numpy as nmp\n",
    "import pandas as pnd\n",
    "data = pnd.read_table('dane2.dat', sep=' ')\n",
    "classes = set(data.klasa)"
   ]
  },
  {
   "cell_type": "markdown",
   "metadata": {},
   "source": [
    "## Zadanie 1\n",
    "Określ liczbę obiektów, liczbę klas, zakresy zmienności poszczególnych atrybutów, ich wartości średnie i odchylenia standardowe dla całego zbioru i w poszczególnych klasach. Wskaż atrybuty o największej i najmniejszej zmienności zgodnie z miarami rozstępu i odchylenia standardowego. Jakie wnioski możesz wyciągnąć z tej analizy?\n",
    "### Cechy całego zbioru\n",
    "Liczba klas:"
   ]
  },
  {
   "cell_type": "code",
   "execution_count": 52,
   "metadata": {},
   "outputs": [
    {
     "data": {
      "text/plain": [
       "4"
      ]
     },
     "execution_count": 52,
     "metadata": {},
     "output_type": "execute_result"
    }
   ],
   "source": [
    "len(classes)"
   ]
  },
  {
   "cell_type": "code",
   "execution_count": 91,
   "metadata": {},
   "outputs": [
    {
     "data": {
      "text/html": [
       "<div>\n",
       "<style scoped>\n",
       "    .dataframe tbody tr th:only-of-type {\n",
       "        vertical-align: middle;\n",
       "    }\n",
       "\n",
       "    .dataframe tbody tr th {\n",
       "        vertical-align: top;\n",
       "    }\n",
       "\n",
       "    .dataframe thead th {\n",
       "        text-align: right;\n",
       "    }\n",
       "</style>\n",
       "<table border=\"1\" class=\"dataframe\">\n",
       "  <thead>\n",
       "    <tr style=\"text-align: right;\">\n",
       "      <th></th>\n",
       "      <th>atrybut1</th>\n",
       "      <th>atrybut2</th>\n",
       "      <th>atrybut3</th>\n",
       "    </tr>\n",
       "  </thead>\n",
       "  <tbody>\n",
       "    <tr>\n",
       "      <th>count</th>\n",
       "      <td>1084.000000</td>\n",
       "      <td>1084.000000</td>\n",
       "      <td>1084.000000</td>\n",
       "    </tr>\n",
       "    <tr>\n",
       "      <th>mean</th>\n",
       "      <td>14.227410</td>\n",
       "      <td>4.438901</td>\n",
       "      <td>22.010804</td>\n",
       "    </tr>\n",
       "    <tr>\n",
       "      <th>std</th>\n",
       "      <td>11.500746</td>\n",
       "      <td>2.032103</td>\n",
       "      <td>24.181961</td>\n",
       "    </tr>\n",
       "    <tr>\n",
       "      <th>min</th>\n",
       "      <td>-1.968539</td>\n",
       "      <td>-0.490167</td>\n",
       "      <td>-43.555897</td>\n",
       "    </tr>\n",
       "    <tr>\n",
       "      <th>25%</th>\n",
       "      <td>3.566773</td>\n",
       "      <td>3.009294</td>\n",
       "      <td>4.616166</td>\n",
       "    </tr>\n",
       "    <tr>\n",
       "      <th>50%</th>\n",
       "      <td>11.825693</td>\n",
       "      <td>4.272123</td>\n",
       "      <td>22.471634</td>\n",
       "    </tr>\n",
       "    <tr>\n",
       "      <th>75%</th>\n",
       "      <td>16.373247</td>\n",
       "      <td>5.744213</td>\n",
       "      <td>38.555013</td>\n",
       "    </tr>\n",
       "    <tr>\n",
       "      <th>max</th>\n",
       "      <td>35.842146</td>\n",
       "      <td>12.434930</td>\n",
       "      <td>100.890134</td>\n",
       "    </tr>\n",
       "  </tbody>\n",
       "</table>\n",
       "</div>"
      ],
      "text/plain": [
       "          atrybut1     atrybut2     atrybut3\n",
       "count  1084.000000  1084.000000  1084.000000\n",
       "mean     14.227410     4.438901    22.010804\n",
       "std      11.500746     2.032103    24.181961\n",
       "min      -1.968539    -0.490167   -43.555897\n",
       "25%       3.566773     3.009294     4.616166\n",
       "50%      11.825693     4.272123    22.471634\n",
       "75%      16.373247     5.744213    38.555013\n",
       "max      35.842146    12.434930   100.890134"
      ]
     },
     "execution_count": 91,
     "metadata": {},
     "output_type": "execute_result"
    }
   ],
   "source": [
    "data.describe()"
   ]
  },
  {
   "cell_type": "markdown",
   "metadata": {},
   "source": [
    "### Poszczególne klasy\n",
    "#### Klasa A"
   ]
  },
  {
   "cell_type": "code",
   "execution_count": 93,
   "metadata": {},
   "outputs": [
    {
     "data": {
      "text/html": [
       "<div>\n",
       "<style scoped>\n",
       "    .dataframe tbody tr th:only-of-type {\n",
       "        vertical-align: middle;\n",
       "    }\n",
       "\n",
       "    .dataframe tbody tr th {\n",
       "        vertical-align: top;\n",
       "    }\n",
       "\n",
       "    .dataframe thead th {\n",
       "        text-align: right;\n",
       "    }\n",
       "</style>\n",
       "<table border=\"1\" class=\"dataframe\">\n",
       "  <thead>\n",
       "    <tr style=\"text-align: right;\">\n",
       "      <th></th>\n",
       "      <th>atrybut1</th>\n",
       "      <th>atrybut2</th>\n",
       "      <th>atrybut3</th>\n",
       "    </tr>\n",
       "  </thead>\n",
       "  <tbody>\n",
       "    <tr>\n",
       "      <th>count</th>\n",
       "      <td>240.000000</td>\n",
       "      <td>240.000000</td>\n",
       "      <td>240.000000</td>\n",
       "    </tr>\n",
       "    <tr>\n",
       "      <th>mean</th>\n",
       "      <td>10.138660</td>\n",
       "      <td>6.044093</td>\n",
       "      <td>12.404963</td>\n",
       "    </tr>\n",
       "    <tr>\n",
       "      <th>std</th>\n",
       "      <td>1.425593</td>\n",
       "      <td>2.198199</td>\n",
       "      <td>15.896253</td>\n",
       "    </tr>\n",
       "    <tr>\n",
       "      <th>min</th>\n",
       "      <td>5.737621</td>\n",
       "      <td>0.370273</td>\n",
       "      <td>-28.505608</td>\n",
       "    </tr>\n",
       "    <tr>\n",
       "      <th>25%</th>\n",
       "      <td>9.223685</td>\n",
       "      <td>4.570963</td>\n",
       "      <td>2.454545</td>\n",
       "    </tr>\n",
       "    <tr>\n",
       "      <th>50%</th>\n",
       "      <td>10.033545</td>\n",
       "      <td>6.031270</td>\n",
       "      <td>12.902333</td>\n",
       "    </tr>\n",
       "    <tr>\n",
       "      <th>75%</th>\n",
       "      <td>11.202069</td>\n",
       "      <td>7.537845</td>\n",
       "      <td>22.985003</td>\n",
       "    </tr>\n",
       "    <tr>\n",
       "      <th>max</th>\n",
       "      <td>14.393056</td>\n",
       "      <td>12.434930</td>\n",
       "      <td>60.097350</td>\n",
       "    </tr>\n",
       "  </tbody>\n",
       "</table>\n",
       "</div>"
      ],
      "text/plain": [
       "         atrybut1    atrybut2    atrybut3\n",
       "count  240.000000  240.000000  240.000000\n",
       "mean    10.138660    6.044093   12.404963\n",
       "std      1.425593    2.198199   15.896253\n",
       "min      5.737621    0.370273  -28.505608\n",
       "25%      9.223685    4.570963    2.454545\n",
       "50%     10.033545    6.031270   12.902333\n",
       "75%     11.202069    7.537845   22.985003\n",
       "max     14.393056   12.434930   60.097350"
      ]
     },
     "execution_count": 93,
     "metadata": {},
     "output_type": "execute_result"
    }
   ],
   "source": [
    "data[data.klasa == 'A'].describe()"
   ]
  },
  {
   "cell_type": "markdown",
   "metadata": {},
   "source": [
    "#### Kasa B"
   ]
  },
  {
   "cell_type": "code",
   "execution_count": 94,
   "metadata": {},
   "outputs": [
    {
     "data": {
      "text/html": [
       "<div>\n",
       "<style scoped>\n",
       "    .dataframe tbody tr th:only-of-type {\n",
       "        vertical-align: middle;\n",
       "    }\n",
       "\n",
       "    .dataframe tbody tr th {\n",
       "        vertical-align: top;\n",
       "    }\n",
       "\n",
       "    .dataframe thead th {\n",
       "        text-align: right;\n",
       "    }\n",
       "</style>\n",
       "<table border=\"1\" class=\"dataframe\">\n",
       "  <thead>\n",
       "    <tr style=\"text-align: right;\">\n",
       "      <th></th>\n",
       "      <th>atrybut1</th>\n",
       "      <th>atrybut2</th>\n",
       "      <th>atrybut3</th>\n",
       "    </tr>\n",
       "  </thead>\n",
       "  <tbody>\n",
       "    <tr>\n",
       "      <th>count</th>\n",
       "      <td>330.000000</td>\n",
       "      <td>330.000000</td>\n",
       "      <td>330.000000</td>\n",
       "    </tr>\n",
       "    <tr>\n",
       "      <th>mean</th>\n",
       "      <td>2.165188</td>\n",
       "      <td>3.050038</td>\n",
       "      <td>29.635088</td>\n",
       "    </tr>\n",
       "    <tr>\n",
       "      <th>std</th>\n",
       "      <td>1.339703</td>\n",
       "      <td>1.395525</td>\n",
       "      <td>20.236050</td>\n",
       "    </tr>\n",
       "    <tr>\n",
       "      <th>min</th>\n",
       "      <td>-1.968539</td>\n",
       "      <td>-0.490167</td>\n",
       "      <td>-34.706880</td>\n",
       "    </tr>\n",
       "    <tr>\n",
       "      <th>25%</th>\n",
       "      <td>1.218117</td>\n",
       "      <td>2.095246</td>\n",
       "      <td>16.181138</td>\n",
       "    </tr>\n",
       "    <tr>\n",
       "      <th>50%</th>\n",
       "      <td>2.138831</td>\n",
       "      <td>3.088464</td>\n",
       "      <td>30.396561</td>\n",
       "    </tr>\n",
       "    <tr>\n",
       "      <th>75%</th>\n",
       "      <td>3.173117</td>\n",
       "      <td>4.011452</td>\n",
       "      <td>43.450057</td>\n",
       "    </tr>\n",
       "    <tr>\n",
       "      <th>max</th>\n",
       "      <td>5.012911</td>\n",
       "      <td>6.595541</td>\n",
       "      <td>80.249678</td>\n",
       "    </tr>\n",
       "  </tbody>\n",
       "</table>\n",
       "</div>"
      ],
      "text/plain": [
       "         atrybut1    atrybut2    atrybut3\n",
       "count  330.000000  330.000000  330.000000\n",
       "mean     2.165188    3.050038   29.635088\n",
       "std      1.339703    1.395525   20.236050\n",
       "min     -1.968539   -0.490167  -34.706880\n",
       "25%      1.218117    2.095246   16.181138\n",
       "50%      2.138831    3.088464   30.396561\n",
       "75%      3.173117    4.011452   43.450057\n",
       "max      5.012911    6.595541   80.249678"
      ]
     },
     "execution_count": 94,
     "metadata": {},
     "output_type": "execute_result"
    }
   ],
   "source": [
    "data[data.klasa == 'B'].describe()"
   ]
  },
  {
   "cell_type": "markdown",
   "metadata": {},
   "source": [
    "#### Kasa C"
   ]
  },
  {
   "cell_type": "code",
   "execution_count": 95,
   "metadata": {},
   "outputs": [
    {
     "data": {
      "text/html": [
       "<div>\n",
       "<style scoped>\n",
       "    .dataframe tbody tr th:only-of-type {\n",
       "        vertical-align: middle;\n",
       "    }\n",
       "\n",
       "    .dataframe tbody tr th {\n",
       "        vertical-align: top;\n",
       "    }\n",
       "\n",
       "    .dataframe thead th {\n",
       "        text-align: right;\n",
       "    }\n",
       "</style>\n",
       "<table border=\"1\" class=\"dataframe\">\n",
       "  <thead>\n",
       "    <tr style=\"text-align: right;\">\n",
       "      <th></th>\n",
       "      <th>atrybut1</th>\n",
       "      <th>atrybut2</th>\n",
       "      <th>atrybut3</th>\n",
       "    </tr>\n",
       "  </thead>\n",
       "  <tbody>\n",
       "    <tr>\n",
       "      <th>count</th>\n",
       "      <td>254.000000</td>\n",
       "      <td>254.000000</td>\n",
       "      <td>254.000000</td>\n",
       "    </tr>\n",
       "    <tr>\n",
       "      <th>mean</th>\n",
       "      <td>33.002905</td>\n",
       "      <td>4.894426</td>\n",
       "      <td>42.771165</td>\n",
       "    </tr>\n",
       "    <tr>\n",
       "      <th>std</th>\n",
       "      <td>0.972881</td>\n",
       "      <td>1.806760</td>\n",
       "      <td>19.358378</td>\n",
       "    </tr>\n",
       "    <tr>\n",
       "      <th>min</th>\n",
       "      <td>30.565839</td>\n",
       "      <td>-0.287685</td>\n",
       "      <td>-15.516450</td>\n",
       "    </tr>\n",
       "    <tr>\n",
       "      <th>25%</th>\n",
       "      <td>32.352036</td>\n",
       "      <td>3.704453</td>\n",
       "      <td>31.150737</td>\n",
       "    </tr>\n",
       "    <tr>\n",
       "      <th>50%</th>\n",
       "      <td>33.038322</td>\n",
       "      <td>4.921782</td>\n",
       "      <td>41.476882</td>\n",
       "    </tr>\n",
       "    <tr>\n",
       "      <th>75%</th>\n",
       "      <td>33.689725</td>\n",
       "      <td>6.126613</td>\n",
       "      <td>52.610471</td>\n",
       "    </tr>\n",
       "    <tr>\n",
       "      <th>max</th>\n",
       "      <td>35.842146</td>\n",
       "      <td>9.771939</td>\n",
       "      <td>100.890134</td>\n",
       "    </tr>\n",
       "  </tbody>\n",
       "</table>\n",
       "</div>"
      ],
      "text/plain": [
       "         atrybut1    atrybut2    atrybut3\n",
       "count  254.000000  254.000000  254.000000\n",
       "mean    33.002905    4.894426   42.771165\n",
       "std      0.972881    1.806760   19.358378\n",
       "min     30.565839   -0.287685  -15.516450\n",
       "25%     32.352036    3.704453   31.150737\n",
       "50%     33.038322    4.921782   41.476882\n",
       "75%     33.689725    6.126613   52.610471\n",
       "max     35.842146    9.771939  100.890134"
      ]
     },
     "execution_count": 95,
     "metadata": {},
     "output_type": "execute_result"
    }
   ],
   "source": [
    "data[data.klasa == 'C'].describe()"
   ]
  },
  {
   "cell_type": "markdown",
   "metadata": {},
   "source": [
    "#### Klasa D"
   ]
  },
  {
   "cell_type": "code",
   "execution_count": 110,
   "metadata": {},
   "outputs": [
    {
     "data": {
      "text/html": [
       "<div>\n",
       "<style scoped>\n",
       "    .dataframe tbody tr th:only-of-type {\n",
       "        vertical-align: middle;\n",
       "    }\n",
       "\n",
       "    .dataframe tbody tr th {\n",
       "        vertical-align: top;\n",
       "    }\n",
       "\n",
       "    .dataframe thead th {\n",
       "        text-align: right;\n",
       "    }\n",
       "</style>\n",
       "<table border=\"1\" class=\"dataframe\">\n",
       "  <thead>\n",
       "    <tr style=\"text-align: right;\">\n",
       "      <th></th>\n",
       "      <th>atrybut1</th>\n",
       "      <th>atrybut2</th>\n",
       "      <th>atrybut3</th>\n",
       "    </tr>\n",
       "  </thead>\n",
       "  <tbody>\n",
       "    <tr>\n",
       "      <th>count</th>\n",
       "      <td>254.000000</td>\n",
       "      <td>254.000000</td>\n",
       "      <td>254.000000</td>\n",
       "    </tr>\n",
       "    <tr>\n",
       "      <th>mean</th>\n",
       "      <td>33.002905</td>\n",
       "      <td>4.894426</td>\n",
       "      <td>42.771165</td>\n",
       "    </tr>\n",
       "    <tr>\n",
       "      <th>std</th>\n",
       "      <td>0.972881</td>\n",
       "      <td>1.806760</td>\n",
       "      <td>19.358378</td>\n",
       "    </tr>\n",
       "    <tr>\n",
       "      <th>min</th>\n",
       "      <td>30.565839</td>\n",
       "      <td>-0.287685</td>\n",
       "      <td>-15.516450</td>\n",
       "    </tr>\n",
       "    <tr>\n",
       "      <th>25%</th>\n",
       "      <td>32.352036</td>\n",
       "      <td>3.704453</td>\n",
       "      <td>31.150737</td>\n",
       "    </tr>\n",
       "    <tr>\n",
       "      <th>50%</th>\n",
       "      <td>33.038322</td>\n",
       "      <td>4.921782</td>\n",
       "      <td>41.476882</td>\n",
       "    </tr>\n",
       "    <tr>\n",
       "      <th>75%</th>\n",
       "      <td>33.689725</td>\n",
       "      <td>6.126613</td>\n",
       "      <td>52.610471</td>\n",
       "    </tr>\n",
       "    <tr>\n",
       "      <th>max</th>\n",
       "      <td>35.842146</td>\n",
       "      <td>9.771939</td>\n",
       "      <td>100.890134</td>\n",
       "    </tr>\n",
       "  </tbody>\n",
       "</table>\n",
       "</div>"
      ],
      "text/plain": [
       "         atrybut1    atrybut2    atrybut3\n",
       "count  254.000000  254.000000  254.000000\n",
       "mean    33.002905    4.894426   42.771165\n",
       "std      0.972881    1.806760   19.358378\n",
       "min     30.565839   -0.287685  -15.516450\n",
       "25%     32.352036    3.704453   31.150737\n",
       "50%     33.038322    4.921782   41.476882\n",
       "75%     33.689725    6.126613   52.610471\n",
       "max     35.842146    9.771939  100.890134"
      ]
     },
     "execution_count": 110,
     "metadata": {},
     "output_type": "execute_result"
    }
   ],
   "source": [
    "data[data.klasa == 'C'].describe()"
   ]
  },
  {
   "cell_type": "markdown",
   "metadata": {},
   "source": [
    "#### Miary rozstępu"
   ]
  },
  {
   "cell_type": "code",
   "execution_count": 62,
   "metadata": {
    "scrolled": false
   },
   "outputs": [
    {
     "data": {
      "text/html": [
       "<div>\n",
       "<style scoped>\n",
       "    .dataframe tbody tr th:only-of-type {\n",
       "        vertical-align: middle;\n",
       "    }\n",
       "\n",
       "    .dataframe tbody tr th {\n",
       "        vertical-align: top;\n",
       "    }\n",
       "\n",
       "    .dataframe thead th {\n",
       "        text-align: right;\n",
       "    }\n",
       "</style>\n",
       "<table border=\"1\" class=\"dataframe\">\n",
       "  <thead>\n",
       "    <tr style=\"text-align: right;\">\n",
       "      <th></th>\n",
       "      <th>atrybut1</th>\n",
       "      <th>atrybut2</th>\n",
       "      <th>atrybut3</th>\n",
       "    </tr>\n",
       "  </thead>\n",
       "  <tbody>\n",
       "    <tr>\n",
       "      <th>A</th>\n",
       "      <td>8.655435</td>\n",
       "      <td>12.064657</td>\n",
       "      <td>88.602958</td>\n",
       "    </tr>\n",
       "    <tr>\n",
       "      <th>B</th>\n",
       "      <td>6.981450</td>\n",
       "      <td>7.085708</td>\n",
       "      <td>114.956558</td>\n",
       "    </tr>\n",
       "    <tr>\n",
       "      <th>C</th>\n",
       "      <td>5.276307</td>\n",
       "      <td>10.059624</td>\n",
       "      <td>116.406584</td>\n",
       "    </tr>\n",
       "    <tr>\n",
       "      <th>D</th>\n",
       "      <td>5.491550</td>\n",
       "      <td>7.440056</td>\n",
       "      <td>96.019458</td>\n",
       "    </tr>\n",
       "  </tbody>\n",
       "</table>\n",
       "</div>"
      ],
      "text/plain": [
       "   atrybut1   atrybut2    atrybut3\n",
       "A  8.655435  12.064657   88.602958\n",
       "B  6.981450   7.085708  114.956558\n",
       "C  5.276307  10.059624  116.406584\n",
       "D  5.491550   7.440056   96.019458"
      ]
     },
     "execution_count": 62,
     "metadata": {},
     "output_type": "execute_result"
    }
   ],
   "source": [
    "allRanges = []\n",
    "for oneClass in classes:\n",
    "    currData = data[data.klasa == oneClass]\n",
    "    currRange = []\n",
    "    currRange.append(max(currData.atrybut1) - min(currData.atrybut1))\n",
    "    currRange.append(max(currData.atrybut2) - min(currData.atrybut2))\n",
    "    currRange.append(max(currData.atrybut3) - min(currData.atrybut3))\n",
    "    allRanges.append(currRange)\n",
    "\n",
    "pnd.DataFrame(allRanges, index = classes, columns = ['atrybut1', 'atrybut2', 'atrybut3']).sort_index()"
   ]
  },
  {
   "cell_type": "markdown",
   "metadata": {},
   "source": [
    "## Ocena zmienności\n",
    "Dla całego zbioru danych najmniejszą zmienność ma atrybut 2., a największą atrybut 3.\n",
    "Dla poszczególnych klas atrybut 3. również ma największą zmienność. Najmniejszą zmienność dla poszczególnych klas wykazał atrybut 1.\n",
    "## Wnioski\n",
    "Po wykonaniu powyższej analizy, można wywnioskować, że wartości dla danych klas nie są rozłożone równomiernie. Gdyby tak było, ocena zmienności dla całego zbioru danych i dla poszczególnych klas nie różniłaby się. Można podejżewać, że w przypadku atrybutu 3. wartości są rozrzucone podobnie we wszystkich klasach."
   ]
  },
  {
   "cell_type": "code",
   "execution_count": null,
   "metadata": {
    "collapsed": true
   },
   "outputs": [],
   "source": []
  }
 ],
 "metadata": {
  "kernelspec": {
   "display_name": "Python 3",
   "language": "python",
   "name": "python3"
  },
  "language_info": {
   "codemirror_mode": {
    "name": "ipython",
    "version": 3
   },
   "file_extension": ".py",
   "mimetype": "text/x-python",
   "name": "python",
   "nbconvert_exporter": "python",
   "pygments_lexer": "ipython3",
   "version": "3.6.3"
  }
 },
 "nbformat": 4,
 "nbformat_minor": 2
}
