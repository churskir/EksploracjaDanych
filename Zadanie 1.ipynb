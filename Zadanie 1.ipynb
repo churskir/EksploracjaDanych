{
 "cells": [
  {
   "cell_type": "code",
   "execution_count": 1,
   "metadata": {
    "collapsed": true
   },
   "outputs": [],
   "source": [
    "import numpy as nmp\n",
    "import pandas as pnd\n",
    "data = pnd.read_table('dane2.dat', sep=' ')\n",
    "classes = set(data.klasa)"
   ]
  },
  {
   "cell_type": "markdown",
   "metadata": {},
   "source": [
    "## Zadanie 1\n",
    "Określ liczbę obiektów, liczbę klas, zakresy zmienności poszczególnych atrybutów, ich wartości średnie i odchylenia standardowe dla całego zbioru i w poszczególnych klasach. Wskaż atrybuty o największej i najmniejszej zmienności zgodnie z miarami rozstępu i odchylenia standardowego. Jakie wnioski możesz wyciągnąć z tej analizy?\n",
    "### Cechy całego zbioru\n",
    "#### Liczba obiektów:"
   ]
  },
  {
   "cell_type": "code",
   "execution_count": 2,
   "metadata": {},
   "outputs": [
    {
     "data": {
      "text/plain": [
       "4336"
      ]
     },
     "execution_count": 2,
     "metadata": {},
     "output_type": "execute_result"
    }
   ],
   "source": [
    "data.size"
   ]
  },
  {
   "cell_type": "markdown",
   "metadata": {
    "collapsed": true
   },
   "source": [
    "#### Liczba klas:"
   ]
  },
  {
   "cell_type": "code",
   "execution_count": 52,
   "metadata": {},
   "outputs": [
    {
     "data": {
      "text/plain": [
       "4"
      ]
     },
     "execution_count": 52,
     "metadata": {},
     "output_type": "execute_result"
    }
   ],
   "source": [
    "len(classes)"
   ]
  },
  {
   "cell_type": "markdown",
   "metadata": {},
   "source": [
    "#### Wartości średnie"
   ]
  },
  {
   "cell_type": "code",
   "execution_count": 53,
   "metadata": {},
   "outputs": [
    {
     "data": {
      "text/plain": [
       "atrybut1    14.227410\n",
       "atrybut2     4.438901\n",
       "atrybut3    22.010804\n",
       "dtype: float64"
      ]
     },
     "execution_count": 53,
     "metadata": {},
     "output_type": "execute_result"
    }
   ],
   "source": [
    "nmp.mean(data)"
   ]
  },
  {
   "cell_type": "markdown",
   "metadata": {
    "collapsed": true
   },
   "source": [
    "#### Odchylenie standardowe"
   ]
  },
  {
   "cell_type": "code",
   "execution_count": 54,
   "metadata": {},
   "outputs": [
    {
     "data": {
      "text/plain": [
       "atrybut1    11.495440\n",
       "atrybut2     2.031165\n",
       "atrybut3    24.170805\n",
       "dtype: float64"
      ]
     },
     "execution_count": 54,
     "metadata": {},
     "output_type": "execute_result"
    }
   ],
   "source": [
    "nmp.std(data)"
   ]
  },
  {
   "cell_type": "markdown",
   "metadata": {},
   "source": [
    "### Poszczególne klasy"
   ]
  },
  {
   "cell_type": "code",
   "execution_count": 55,
   "metadata": {},
   "outputs": [
    {
     "data": {
      "text/html": [
       "<div>\n",
       "<style scoped>\n",
       "    .dataframe tbody tr th:only-of-type {\n",
       "        vertical-align: middle;\n",
       "    }\n",
       "\n",
       "    .dataframe tbody tr th {\n",
       "        vertical-align: top;\n",
       "    }\n",
       "\n",
       "    .dataframe thead th {\n",
       "        text-align: right;\n",
       "    }\n",
       "</style>\n",
       "<table border=\"1\" class=\"dataframe\">\n",
       "  <thead>\n",
       "    <tr style=\"text-align: right;\">\n",
       "      <th></th>\n",
       "      <th>atrybut1</th>\n",
       "      <th>atrybut2</th>\n",
       "      <th>atrybut3</th>\n",
       "    </tr>\n",
       "  </thead>\n",
       "  <tbody>\n",
       "    <tr>\n",
       "      <th>count</th>\n",
       "      <td>1084.000000</td>\n",
       "      <td>1084.000000</td>\n",
       "      <td>1084.000000</td>\n",
       "    </tr>\n",
       "    <tr>\n",
       "      <th>mean</th>\n",
       "      <td>14.227410</td>\n",
       "      <td>4.438901</td>\n",
       "      <td>22.010804</td>\n",
       "    </tr>\n",
       "    <tr>\n",
       "      <th>std</th>\n",
       "      <td>11.500746</td>\n",
       "      <td>2.032103</td>\n",
       "      <td>24.181961</td>\n",
       "    </tr>\n",
       "    <tr>\n",
       "      <th>min</th>\n",
       "      <td>-1.968539</td>\n",
       "      <td>-0.490167</td>\n",
       "      <td>-43.555897</td>\n",
       "    </tr>\n",
       "    <tr>\n",
       "      <th>25%</th>\n",
       "      <td>3.566773</td>\n",
       "      <td>3.009294</td>\n",
       "      <td>4.616166</td>\n",
       "    </tr>\n",
       "    <tr>\n",
       "      <th>50%</th>\n",
       "      <td>11.825693</td>\n",
       "      <td>4.272123</td>\n",
       "      <td>22.471634</td>\n",
       "    </tr>\n",
       "    <tr>\n",
       "      <th>75%</th>\n",
       "      <td>16.373247</td>\n",
       "      <td>5.744213</td>\n",
       "      <td>38.555013</td>\n",
       "    </tr>\n",
       "    <tr>\n",
       "      <th>max</th>\n",
       "      <td>35.842146</td>\n",
       "      <td>12.434930</td>\n",
       "      <td>100.890134</td>\n",
       "    </tr>\n",
       "  </tbody>\n",
       "</table>\n",
       "</div>"
      ],
      "text/plain": [
       "          atrybut1     atrybut2     atrybut3\n",
       "count  1084.000000  1084.000000  1084.000000\n",
       "mean     14.227410     4.438901    22.010804\n",
       "std      11.500746     2.032103    24.181961\n",
       "min      -1.968539    -0.490167   -43.555897\n",
       "25%       3.566773     3.009294     4.616166\n",
       "50%      11.825693     4.272123    22.471634\n",
       "75%      16.373247     5.744213    38.555013\n",
       "max      35.842146    12.434930   100.890134"
      ]
     },
     "execution_count": 55,
     "metadata": {},
     "output_type": "execute_result"
    }
   ],
   "source": [
    "data.describe()"
   ]
  },
  {
   "cell_type": "markdown",
   "metadata": {},
   "source": [
    "#### Miary rozstępu"
   ]
  },
  {
   "cell_type": "code",
   "execution_count": 62,
   "metadata": {
    "scrolled": false
   },
   "outputs": [
    {
     "data": {
      "text/html": [
       "<div>\n",
       "<style scoped>\n",
       "    .dataframe tbody tr th:only-of-type {\n",
       "        vertical-align: middle;\n",
       "    }\n",
       "\n",
       "    .dataframe tbody tr th {\n",
       "        vertical-align: top;\n",
       "    }\n",
       "\n",
       "    .dataframe thead th {\n",
       "        text-align: right;\n",
       "    }\n",
       "</style>\n",
       "<table border=\"1\" class=\"dataframe\">\n",
       "  <thead>\n",
       "    <tr style=\"text-align: right;\">\n",
       "      <th></th>\n",
       "      <th>atrybut1</th>\n",
       "      <th>atrybut2</th>\n",
       "      <th>atrybut3</th>\n",
       "    </tr>\n",
       "  </thead>\n",
       "  <tbody>\n",
       "    <tr>\n",
       "      <th>A</th>\n",
       "      <td>8.655435</td>\n",
       "      <td>12.064657</td>\n",
       "      <td>88.602958</td>\n",
       "    </tr>\n",
       "    <tr>\n",
       "      <th>B</th>\n",
       "      <td>6.981450</td>\n",
       "      <td>7.085708</td>\n",
       "      <td>114.956558</td>\n",
       "    </tr>\n",
       "    <tr>\n",
       "      <th>C</th>\n",
       "      <td>5.276307</td>\n",
       "      <td>10.059624</td>\n",
       "      <td>116.406584</td>\n",
       "    </tr>\n",
       "    <tr>\n",
       "      <th>D</th>\n",
       "      <td>5.491550</td>\n",
       "      <td>7.440056</td>\n",
       "      <td>96.019458</td>\n",
       "    </tr>\n",
       "  </tbody>\n",
       "</table>\n",
       "</div>"
      ],
      "text/plain": [
       "   atrybut1   atrybut2    atrybut3\n",
       "A  8.655435  12.064657   88.602958\n",
       "B  6.981450   7.085708  114.956558\n",
       "C  5.276307  10.059624  116.406584\n",
       "D  5.491550   7.440056   96.019458"
      ]
     },
     "execution_count": 62,
     "metadata": {},
     "output_type": "execute_result"
    }
   ],
   "source": [
    "allRanges = []\n",
    "for oneClass in classes:\n",
    "    currData = data[data.klasa == oneClass]\n",
    "    currRange = []\n",
    "    currRange.append(max(currData.atrybut1) - min(currData.atrybut1))\n",
    "    currRange.append(max(currData.atrybut2) - min(currData.atrybut2))\n",
    "    currRange.append(max(currData.atrybut3) - min(currData.atrybut3))\n",
    "    allRanges.append(currRange)\n",
    "\n",
    "pnd.DataFrame(allRanges, index = classes, columns = ['atrybut1', 'atrybut2', 'atrybut3']).sort_index()"
   ]
  },
  {
   "cell_type": "markdown",
   "metadata": {},
   "source": [
    "## Ocena zmienności\n",
    "Dla całego zbioru danych najmniejszą zmienność ma atrybut 2., a największą atrybut 3.\n",
    "Dla poszczególnych klas atrybut 3. również ma największą zmienność. Najmniejszą zmienność dla poszczególnych klas wykazał atrybut 1.\n",
    "## Wnioski\n",
    "Po wykonaniu powyższej analizy, można wywnioskować, że wartości dla danych klas nie są rozłożone równomiernie. Gdyby tak było, ocena zmienności dla całego zbioru danych i dla poszczególnych klas nie różniłaby się. Można podejżewać, że w przypadku atrybutu 3. wartości są rozrzucone podobnie we wszystkich klasach."
   ]
  },
  {
   "cell_type": "code",
   "execution_count": null,
   "metadata": {
    "collapsed": true
   },
   "outputs": [],
   "source": []
  }
 ],
 "metadata": {
  "kernelspec": {
   "display_name": "Python 3",
   "language": "python",
   "name": "python3"
  },
  "language_info": {
   "codemirror_mode": {
    "name": "ipython",
    "version": 3
   },
   "file_extension": ".py",
   "mimetype": "text/x-python",
   "name": "python",
   "nbconvert_exporter": "python",
   "pygments_lexer": "ipython3",
   "version": "3.6.3"
  }
 },
 "nbformat": 4,
 "nbformat_minor": 2
}
