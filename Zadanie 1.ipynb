{
 "cells": [
  {
   "cell_type": "code",
   "execution_count": 9,
   "metadata": {
    "collapsed": true
   },
   "outputs": [],
   "source": [
    "import numpy as nmp\n",
    "import pandas as pnd\n",
    "data = pnd.read_table('dane2.dat', sep=' ')\n",
    "classes = set(data.klasa)"
   ]
  },
  {
   "cell_type": "markdown",
   "metadata": {},
   "source": [
    "## Zadanie 1\n",
    "Określ liczbę obiektów, liczbę klas, zakresy zmienności poszczególnych atrybutów, ich wartości średnie i odchylenia standardowe dla całego zbioru i w poszczególnych klasach. Wskaż atrybuty o największej i najmniejszej zmienności zgodnie z miarami rozstępu i odchylenia standardowego. Jakie wnioski możesz wyciągnąć z tej analizy?\n",
    "### Cechy całego zbioru\n",
    "#### Liczba obiektów:"
   ]
  },
  {
   "cell_type": "code",
   "execution_count": 10,
   "metadata": {},
   "outputs": [
    {
     "data": {
      "text/plain": [
       "4336"
      ]
     },
     "execution_count": 10,
     "metadata": {},
     "output_type": "execute_result"
    }
   ],
   "source": [
    "data.size"
   ]
  },
  {
   "cell_type": "markdown",
   "metadata": {
    "collapsed": true
   },
   "source": [
    "#### Liczba klas:"
   ]
  },
  {
   "cell_type": "code",
   "execution_count": 11,
   "metadata": {},
   "outputs": [
    {
     "data": {
      "text/plain": [
       "4"
      ]
     },
     "execution_count": 11,
     "metadata": {},
     "output_type": "execute_result"
    }
   ],
   "source": [
    "len(classes)"
   ]
  },
  {
   "cell_type": "markdown",
   "metadata": {},
   "source": [
    "#### Zakresy zmienności"
   ]
  },
  {
   "cell_type": "code",
   "execution_count": 47,
   "metadata": {},
   "outputs": [
    {
     "name": "stdout",
     "output_type": "stream",
     "text": [
      "\n",
      "Atrybut 1\n",
      "Wartość minimalna: -1.96853928801105\n",
      "Wartość maksymalna: 35.842146382198294\n",
      "Miara rozstępu: 37.810685670209345\n",
      "\n"
     ]
    }
   ],
   "source": [
    "minimum = min(data.atrybut1)\n",
    "maximum = max(data.atrybut1)\n",
    "print(\"\"\"\n",
    "Atrybut 1\n",
    "Wartość minimalna: %s\n",
    "Wartość maksymalna: %s\n",
    "Miara rozstępu: %s\n",
    "\"\"\" % (minimum, maximum, maximum - minimum))"
   ]
  },
  {
   "cell_type": "code",
   "execution_count": 48,
   "metadata": {},
   "outputs": [
    {
     "name": "stdout",
     "output_type": "stream",
     "text": [
      "\n",
      "Atrybut 2\n",
      "Wartość minimalna: -0.490167052942181\n",
      "Wartość maksymalna: 12.4349295281139\n",
      "Miara rozstępu: 12.925096581056081\n",
      "\n"
     ]
    }
   ],
   "source": [
    "minimum = min(data.atrybut2)\n",
    "maximum = max(data.atrybut2)\n",
    "print(\"\"\"\n",
    "Atrybut 2\n",
    "Wartość minimalna: %s\n",
    "Wartość maksymalna: %s\n",
    "Miara rozstępu: %s\n",
    "\"\"\" % (minimum, maximum, maximum - minimum))"
   ]
  },
  {
   "cell_type": "code",
   "execution_count": 49,
   "metadata": {},
   "outputs": [
    {
     "name": "stdout",
     "output_type": "stream",
     "text": [
      "\n",
      "Atrybut 3\n",
      "Wartość minimalna: -43.5558971375128\n",
      "Wartość maksymalna: 100.89013406426201\n",
      "Miara rozstępu: 144.44603120177482\n",
      "\n"
     ]
    }
   ],
   "source": [
    "minimum = min(data.atrybut3)\n",
    "maximum = max(data.atrybut3)\n",
    "print(\"\"\"\n",
    "Atrybut 3\n",
    "Wartość minimalna: %s\n",
    "Wartość maksymalna: %s\n",
    "Miara rozstępu: %s\n",
    "\"\"\" % (minimum, maximum, maximum - minimum))"
   ]
  },
  {
   "cell_type": "markdown",
   "metadata": {},
   "source": [
    "#### Wartości średnie"
   ]
  },
  {
   "cell_type": "code",
   "execution_count": 19,
   "metadata": {},
   "outputs": [
    {
     "data": {
      "text/plain": [
       "atrybut1    14.227410\n",
       "atrybut2     4.438901\n",
       "atrybut3    22.010804\n",
       "dtype: float64"
      ]
     },
     "execution_count": 19,
     "metadata": {},
     "output_type": "execute_result"
    }
   ],
   "source": [
    "nmp.mean(data)"
   ]
  },
  {
   "cell_type": "markdown",
   "metadata": {
    "collapsed": true
   },
   "source": [
    "#### Odchylenie standardowe"
   ]
  },
  {
   "cell_type": "code",
   "execution_count": 21,
   "metadata": {},
   "outputs": [
    {
     "data": {
      "text/plain": [
       "atrybut1    11.495440\n",
       "atrybut2     2.031165\n",
       "atrybut3    24.170805\n",
       "dtype: float64"
      ]
     },
     "execution_count": 21,
     "metadata": {},
     "output_type": "execute_result"
    }
   ],
   "source": [
    "nmp.std(data)"
   ]
  },
  {
   "cell_type": "markdown",
   "metadata": {},
   "source": [
    "### Poszczególne klasy\n",
    "Wykonanie obliczeń dla poszczególnych klas zostało uproszczone z wykorzystaniem pętli."
   ]
  },
  {
   "cell_type": "code",
   "execution_count": 50,
   "metadata": {
    "scrolled": false
   },
   "outputs": [
    {
     "name": "stdout",
     "output_type": "stream",
     "text": [
      "\n",
      "\n",
      "> > > KLASA C\n",
      "> Liczba obiektów\n",
      "1016\n",
      "> Zakresy zmienności\n",
      "\n",
      "    Atrybut 1\n",
      "    Wartość minimalna: 30.5658391385913\n",
      "    Wartość maksymalna: 35.842146382198294\n",
      "    Miara rozstępu: 5.276307243606993\n",
      "    \n",
      "\n",
      "    Atrybut 2\n",
      "    Wartość minimalna: -0.287685036469873\n",
      "    Wartość maksymalna: 9.77193942803468\n",
      "    Miara rozstępu: 10.059624464504552\n",
      "    \n",
      "\n",
      "    Atrybut 3\n",
      "    Wartość minimalna: -15.5164504077072\n",
      "    Wartość maksymalna: 100.89013406426201\n",
      "    Miara rozstępu: 116.40658447196921\n",
      "    \n",
      "\n",
      "> Wartości średnie\n",
      "atrybut1    33.002905\n",
      "atrybut2     4.894426\n",
      "atrybut3    42.771165\n",
      "dtype: float64\n",
      "\n",
      "> Odchylenie standardowe\n",
      "atrybut1     0.970964\n",
      "atrybut2     1.803200\n",
      "atrybut3    19.320234\n",
      "dtype: float64\n",
      "\n",
      "\n",
      "> > > KLASA B\n",
      "> Liczba obiektów\n",
      "1320\n",
      "> Zakresy zmienności\n",
      "\n",
      "    Atrybut 1\n",
      "    Wartość minimalna: -1.96853928801105\n",
      "    Wartość maksymalna: 5.012910967373211\n",
      "    Miara rozstępu: 6.98145025538426\n",
      "    \n",
      "\n",
      "    Atrybut 2\n",
      "    Wartość minimalna: -0.490167052942181\n",
      "    Wartość maksymalna: 6.59554057603747\n",
      "    Miara rozstępu: 7.085707628979651\n",
      "    \n",
      "\n",
      "    Atrybut 3\n",
      "    Wartość minimalna: -34.706880350473696\n",
      "    Wartość maksymalna: 80.249677961736\n",
      "    Miara rozstępu: 114.9565583122097\n",
      "    \n",
      "\n",
      "> Wartości średnie\n",
      "atrybut1     2.165188\n",
      "atrybut2     3.050038\n",
      "atrybut3    29.635088\n",
      "dtype: float64\n",
      "\n",
      "> Odchylenie standardowe\n",
      "atrybut1     1.337672\n",
      "atrybut2     1.393409\n",
      "atrybut3    20.205366\n",
      "dtype: float64\n",
      "\n",
      "\n",
      "> > > KLASA A\n",
      "> Liczba obiektów\n",
      "960\n",
      "> Zakresy zmienności\n",
      "\n",
      "    Atrybut 1\n",
      "    Wartość minimalna: 5.73762091470047\n",
      "    Wartość maksymalna: 14.3930562389282\n",
      "    Miara rozstępu: 8.65543532422773\n",
      "    \n",
      "\n",
      "    Atrybut 2\n",
      "    Wartość minimalna: 0.3702727685953\n",
      "    Wartość maksymalna: 12.4349295281139\n",
      "    Miara rozstępu: 12.0646567595186\n",
      "    \n",
      "\n",
      "    Atrybut 3\n",
      "    Wartość minimalna: -28.505608126255304\n",
      "    Wartość maksymalna: 60.0973495923837\n",
      "    Miara rozstępu: 88.602957718639\n",
      "    \n",
      "\n",
      "> Wartości średnie\n",
      "atrybut1    10.138660\n",
      "atrybut2     6.044093\n",
      "atrybut3    12.404963\n",
      "dtype: float64\n",
      "\n",
      "> Odchylenie standardowe\n",
      "atrybut1     1.422620\n",
      "atrybut2     2.193615\n",
      "atrybut3    15.863101\n",
      "dtype: float64\n",
      "\n",
      "\n",
      "> > > KLASA D\n",
      "> Liczba obiektów\n",
      "1040\n",
      "> Zakresy zmienności\n",
      "\n",
      "    Atrybut 1\n",
      "    Wartość minimalna: 12.918323406420699\n",
      "    Wartość maksymalna: 18.409873148489\n",
      "    Miara rozstępu: 5.491549742068303\n",
      "    \n",
      "\n",
      "    Atrybut 2\n",
      "    Wartość minimalna: 0.329271713510206\n",
      "    Wartość maksymalna: 7.7693279004720495\n",
      "    Miara rozstępu: 7.440056186961844\n",
      "    \n",
      "\n",
      "    Atrybut 3\n",
      "    Wartość minimalna: -43.5558971375128\n",
      "    Wartość maksymalna: 52.4635611992237\n",
      "    Miara rozstępu: 96.0194583367365\n",
      "    \n",
      "\n",
      "> Wartości średnie\n",
      "atrybut1    14.969171\n",
      "atrybut2     4.274963\n",
      "atrybut3     0.919481\n",
      "dtype: float64\n",
      "\n",
      "> Odchylenie standardowe\n",
      "atrybut1     0.920595\n",
      "atrybut2     1.435896\n",
      "atrybut3    17.199559\n",
      "dtype: float64\n"
     ]
    }
   ],
   "source": [
    "for oneClass in classes:\n",
    "    print(\"\\n\\n> > > KLASA %s\" % oneClass)\n",
    "    currData = data[data.klasa == oneClass]\n",
    "\n",
    "    print(\"> Liczba obiektów\")\n",
    "    print(currData.size)\n",
    "\n",
    "    print(\"> Zakresy zmienności\")\n",
    "    minimum = min(currData.atrybut1)\n",
    "    maximum = max(currData.atrybut1)\n",
    "    print(\"\"\"\n",
    "    Atrybut 1\n",
    "    Wartość minimalna: %s\n",
    "    Wartość maksymalna: %s\n",
    "    Miara rozstępu: %s\n",
    "    \"\"\" % (minimum, maximum, maximum - minimum))\n",
    "    \n",
    "    minimum = min(currData.atrybut2)\n",
    "    maximum = max(currData.atrybut2)\n",
    "    print(\"\"\"\n",
    "    Atrybut 2\n",
    "    Wartość minimalna: %s\n",
    "    Wartość maksymalna: %s\n",
    "    Miara rozstępu: %s\n",
    "    \"\"\" % (minimum, maximum, maximum - minimum))\n",
    "\n",
    "    minimum = min(currData.atrybut3)\n",
    "    maximum = max(currData.atrybut3)\n",
    "    print(\"\"\"\n",
    "    Atrybut 3\n",
    "    Wartość minimalna: %s\n",
    "    Wartość maksymalna: %s\n",
    "    Miara rozstępu: %s\n",
    "    \"\"\" % (minimum, maximum, maximum - minimum))\n",
    "\n",
    "    print(\"\\n> Wartości średnie\")\n",
    "    print(nmp.mean(currData))\n",
    "\n",
    "    print(\"\\n> Odchylenie standardowe\")\n",
    "    print(nmp.std(currData))"
   ]
  },
  {
   "cell_type": "markdown",
   "metadata": {},
   "source": [
    "## Ocena zmienności\n",
    "Dla całego zbioru danych najmniejszą zmienność ma atrybut 2., a największą atrybut 3.\n",
    "Dla poszczególnych klas atrybut 3. również ma największą zmienność. Najmniejszą zmienność dla poszczególnych klas wykazał atrybut 1.\n",
    "## Wnioski\n",
    "Po wykonaniu powyższej analizy, można wywnioskować, że wartości dla danych klas nie są rozłożone równomiernie. Gdyby tak było, ocena zmienności dla całego zbioru danych i dla poszczególnych klas nie różniłaby się. Można podejżewać, że w przypadku atrybutu 3. wartości są rozrzucone podobnie we wszystkich klasach."
   ]
  }
 ],
 "metadata": {
  "kernelspec": {
   "display_name": "Python 3",
   "language": "python",
   "name": "python3"
  },
  "language_info": {
   "codemirror_mode": {
    "name": "ipython",
    "version": 3
   },
   "file_extension": ".py",
   "mimetype": "text/x-python",
   "name": "python",
   "nbconvert_exporter": "python",
   "pygments_lexer": "ipython3",
   "version": "3.6.3"
  }
 },
 "nbformat": 4,
 "nbformat_minor": 2
}
